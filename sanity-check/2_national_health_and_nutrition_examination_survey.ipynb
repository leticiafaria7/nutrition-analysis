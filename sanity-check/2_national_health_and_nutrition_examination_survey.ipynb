{
 "cells": [
  {
   "attachments": {},
   "cell_type": "markdown",
   "metadata": {},
   "source": [
    "# Sanity check - National health and nutrition examination survey\n",
    "---"
   ]
  },
  {
   "attachments": {},
   "cell_type": "markdown",
   "metadata": {},
   "source": [
    "## 0. Configuração do ambiente"
   ]
  },
  {
   "cell_type": "code",
   "execution_count": 1,
   "metadata": {},
   "outputs": [],
   "source": [
    "# bibliotecas\n",
    "\n",
    "import pandas as pd\n",
    "import numpy as np\n",
    "import seaborn as sns\n",
    "import matplotlib.pyplot as plt"
   ]
  },
  {
   "cell_type": "code",
   "execution_count": 10,
   "metadata": {},
   "outputs": [],
   "source": [
    "# bases de dados\n",
    "\n",
    "demographic = pd.read_csv('../national_health_and_nutrition_examination_survey/demographic.csv')\n",
    "diet = pd.read_csv('../national_health_and_nutrition_examination_survey/diet.csv')\n",
    "examination = pd.read_csv('../national_health_and_nutrition_examination_survey/examination.csv')\n",
    "labs = pd.read_csv('../national_health_and_nutrition_examination_survey/labs.csv')\n",
    "medications = pd.read_csv('../national_health_and_nutrition_examination_survey/medications.csv', encoding = 'latin1')\n",
    "questionnaire = pd.read_csv('../national_health_and_nutrition_examination_survey/questionnaire.csv')"
   ]
  },
  {
   "cell_type": "code",
   "execution_count": 11,
   "metadata": {},
   "outputs": [
    {
     "name": "stdout",
     "output_type": "stream",
     "text": [
      "demographic   (10175, 47)\n",
      "diet          (9813, 168)\n",
      "examination   (9813, 224)\n",
      "labs          (9813, 424)\n",
      "medications   (20194, 13)\n",
      "questionnaire (10175, 953)\n"
     ]
    }
   ],
   "source": [
    "print('demographic  ', demographic.shape)\n",
    "print('diet         ', diet.shape)\n",
    "print('examination  ', examination.shape)\n",
    "print('labs         ', labs.shape)\n",
    "print('medications  ', medications.shape)\n",
    "print('questionnaire', questionnaire.shape)"
   ]
  },
  {
   "cell_type": "code",
   "execution_count": null,
   "metadata": {},
   "outputs": [],
   "source": []
  }
 ],
 "metadata": {
  "kernelspec": {
   "display_name": "Python 3",
   "language": "python",
   "name": "python3"
  },
  "language_info": {
   "codemirror_mode": {
    "name": "ipython",
    "version": 3
   },
   "file_extension": ".py",
   "mimetype": "text/x-python",
   "name": "python",
   "nbconvert_exporter": "python",
   "pygments_lexer": "ipython3",
   "version": "3.11.3"
  },
  "orig_nbformat": 4
 },
 "nbformat": 4,
 "nbformat_minor": 2
}
