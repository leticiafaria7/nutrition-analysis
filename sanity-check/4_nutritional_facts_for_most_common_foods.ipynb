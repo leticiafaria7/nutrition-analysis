{
 "cells": [
  {
   "attachments": {},
   "cell_type": "markdown",
   "metadata": {},
   "source": [
    "# Sanity check - Nutritional facts for most common foods\n",
    "---"
   ]
  },
  {
   "attachments": {},
   "cell_type": "markdown",
   "metadata": {},
   "source": [
    "## 0. Configuração do ambiente"
   ]
  },
  {
   "cell_type": "code",
   "execution_count": 1,
   "metadata": {},
   "outputs": [],
   "source": [
    "# bibliotecas\n",
    "\n",
    "import pandas as pd\n",
    "import numpy as np\n",
    "import seaborn as sns\n",
    "import matplotlib.pyplot as plt"
   ]
  },
  {
   "cell_type": "code",
   "execution_count": 2,
   "metadata": {},
   "outputs": [],
   "source": [
    "# base de dados\n",
    "\n",
    "data = pd.read_csv('../nutritional_facts_for_most_common_foods/nutrients_csvfile.csv')"
   ]
  },
  {
   "cell_type": "code",
   "execution_count": 3,
   "metadata": {},
   "outputs": [
    {
     "data": {
      "text/plain": [
       "(335, 10)"
      ]
     },
     "execution_count": 3,
     "metadata": {},
     "output_type": "execute_result"
    }
   ],
   "source": [
    "data.shape"
   ]
  },
  {
   "cell_type": "code",
   "execution_count": 4,
   "metadata": {},
   "outputs": [
    {
     "data": {
      "text/html": [
       "<div>\n",
       "<style scoped>\n",
       "    .dataframe tbody tr th:only-of-type {\n",
       "        vertical-align: middle;\n",
       "    }\n",
       "\n",
       "    .dataframe tbody tr th {\n",
       "        vertical-align: top;\n",
       "    }\n",
       "\n",
       "    .dataframe thead th {\n",
       "        text-align: right;\n",
       "    }\n",
       "</style>\n",
       "<table border=\"1\" class=\"dataframe\">\n",
       "  <thead>\n",
       "    <tr style=\"text-align: right;\">\n",
       "      <th></th>\n",
       "      <th>Food</th>\n",
       "      <th>Measure</th>\n",
       "      <th>Grams</th>\n",
       "      <th>Calories</th>\n",
       "      <th>Protein</th>\n",
       "      <th>Fat</th>\n",
       "      <th>Sat.Fat</th>\n",
       "      <th>Fiber</th>\n",
       "      <th>Carbs</th>\n",
       "      <th>Category</th>\n",
       "    </tr>\n",
       "  </thead>\n",
       "  <tbody>\n",
       "    <tr>\n",
       "      <th>0</th>\n",
       "      <td>Cows' milk</td>\n",
       "      <td>1 qt.</td>\n",
       "      <td>976</td>\n",
       "      <td>660</td>\n",
       "      <td>32</td>\n",
       "      <td>40</td>\n",
       "      <td>36</td>\n",
       "      <td>0</td>\n",
       "      <td>48</td>\n",
       "      <td>Dairy products</td>\n",
       "    </tr>\n",
       "    <tr>\n",
       "      <th>1</th>\n",
       "      <td>Milk skim</td>\n",
       "      <td>1 qt.</td>\n",
       "      <td>984</td>\n",
       "      <td>360</td>\n",
       "      <td>36</td>\n",
       "      <td>t</td>\n",
       "      <td>t</td>\n",
       "      <td>0</td>\n",
       "      <td>52</td>\n",
       "      <td>Dairy products</td>\n",
       "    </tr>\n",
       "    <tr>\n",
       "      <th>2</th>\n",
       "      <td>Buttermilk</td>\n",
       "      <td>1 cup</td>\n",
       "      <td>246</td>\n",
       "      <td>127</td>\n",
       "      <td>9</td>\n",
       "      <td>5</td>\n",
       "      <td>4</td>\n",
       "      <td>0</td>\n",
       "      <td>13</td>\n",
       "      <td>Dairy products</td>\n",
       "    </tr>\n",
       "    <tr>\n",
       "      <th>3</th>\n",
       "      <td>Evaporated, undiluted</td>\n",
       "      <td>1 cup</td>\n",
       "      <td>252</td>\n",
       "      <td>345</td>\n",
       "      <td>16</td>\n",
       "      <td>20</td>\n",
       "      <td>18</td>\n",
       "      <td>0</td>\n",
       "      <td>24</td>\n",
       "      <td>Dairy products</td>\n",
       "    </tr>\n",
       "    <tr>\n",
       "      <th>4</th>\n",
       "      <td>Fortified milk</td>\n",
       "      <td>6 cups</td>\n",
       "      <td>1,419</td>\n",
       "      <td>1,373</td>\n",
       "      <td>89</td>\n",
       "      <td>42</td>\n",
       "      <td>23</td>\n",
       "      <td>1.4</td>\n",
       "      <td>119</td>\n",
       "      <td>Dairy products</td>\n",
       "    </tr>\n",
       "  </tbody>\n",
       "</table>\n",
       "</div>"
      ],
      "text/plain": [
       "                    Food Measure  Grams Calories Protein Fat Sat.Fat Fiber   \n",
       "0             Cows' milk   1 qt.    976      660      32  40      36     0  \\\n",
       "1              Milk skim   1 qt.    984      360      36   t       t     0   \n",
       "2             Buttermilk   1 cup    246      127       9   5       4     0   \n",
       "3  Evaporated, undiluted   1 cup    252      345      16  20      18     0   \n",
       "4         Fortified milk  6 cups  1,419    1,373      89  42      23   1.4   \n",
       "\n",
       "  Carbs        Category  \n",
       "0    48  Dairy products  \n",
       "1    52  Dairy products  \n",
       "2    13  Dairy products  \n",
       "3    24  Dairy products  \n",
       "4   119  Dairy products  "
      ]
     },
     "execution_count": 4,
     "metadata": {},
     "output_type": "execute_result"
    }
   ],
   "source": [
    "data.head()"
   ]
  },
  {
   "cell_type": "code",
   "execution_count": 5,
   "metadata": {},
   "outputs": [
    {
     "data": {
      "text/plain": [
       "Category\n",
       "Breads, cereals, fastfood,grains    45\n",
       "Meat, Poultry                       30\n",
       "Desserts, sweets                    29\n",
       "Dairy products                      28\n",
       "Vegetables A-E                      28\n",
       "Vegetables R-Z                      28\n",
       "Fruits G-P                          28\n",
       "Fruits A-F                          22\n",
       "Fish, Seafood                       19\n",
       "Fats, Oils, Shortenings             14\n",
       "Vegetables F-P                      14\n",
       "Seeds and Nuts                      12\n",
       "Drinks,Alcohol, Beverages           12\n",
       "Soups                               10\n",
       "Fruits R-Z                           8\n",
       "Jams, Jellies                        8\n",
       "Name: count, dtype: int64"
      ]
     },
     "execution_count": 5,
     "metadata": {},
     "output_type": "execute_result"
    }
   ],
   "source": [
    "data['Category'].value_counts()"
   ]
  },
  {
   "cell_type": "code",
   "execution_count": 6,
   "metadata": {},
   "outputs": [
    {
     "data": {
      "text/plain": [
       "Measure\n",
       "1 cup       120\n",
       "3 oz.        25\n",
       "1/2 cup      23\n",
       "1 slice      15\n",
       "1 T.         12\n",
       "           ... \n",
       "aver.         1\n",
       "6-8 med.      1\n",
       "1 steak       1\n",
       "6 spears      1\n",
       "8             1\n",
       "Name: count, Length: 61, dtype: int64"
      ]
     },
     "execution_count": 6,
     "metadata": {},
     "output_type": "execute_result"
    }
   ],
   "source": [
    "data['Measure'].value_counts()"
   ]
  },
  {
   "cell_type": "code",
   "execution_count": 7,
   "metadata": {},
   "outputs": [
    {
     "data": {
      "text/plain": [
       "Food        object\n",
       "Measure     object\n",
       "Grams       object\n",
       "Calories    object\n",
       "Protein     object\n",
       "Fat         object\n",
       "Sat.Fat     object\n",
       "Fiber       object\n",
       "Carbs       object\n",
       "Category    object\n",
       "dtype: object"
      ]
     },
     "execution_count": 7,
     "metadata": {},
     "output_type": "execute_result"
    }
   ],
   "source": [
    "data.dtypes"
   ]
  },
  {
   "cell_type": "code",
   "execution_count": null,
   "metadata": {},
   "outputs": [],
   "source": []
  }
 ],
 "metadata": {
  "kernelspec": {
   "display_name": "Python 3",
   "language": "python",
   "name": "python3"
  },
  "language_info": {
   "codemirror_mode": {
    "name": "ipython",
    "version": 3
   },
   "file_extension": ".py",
   "mimetype": "text/x-python",
   "name": "python",
   "nbconvert_exporter": "python",
   "pygments_lexer": "ipython3",
   "version": "3.11.3"
  },
  "orig_nbformat": 4
 },
 "nbformat": 4,
 "nbformat_minor": 2
}
